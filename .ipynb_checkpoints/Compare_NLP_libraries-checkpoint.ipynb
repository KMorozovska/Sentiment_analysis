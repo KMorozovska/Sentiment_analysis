{
 "cells": [
  {
   "cell_type": "code",
   "execution_count": 1,
   "id": "7d70ecb9",
   "metadata": {},
   "outputs": [],
   "source": [
    "import os\n",
    "import pandas as pd\n",
    "import numpy as np"
   ]
  },
  {
   "cell_type": "code",
   "execution_count": 2,
   "id": "957b0db0",
   "metadata": {},
   "outputs": [],
   "source": [
    "reviews_files = []\n",
    "cwd = os.getcwd()\n",
    "\n",
    "for root, dirs, files in os.walk(os.path.join(cwd, \"web_scraper\")):\n",
    "    for file in files: \n",
    "        if file.endswith(\".csv\"):\n",
    "            reviews_files.append(pd.read_csv('web_scraper\\\\'+file))"
   ]
  },
  {
   "cell_type": "code",
   "execution_count": 17,
   "id": "dfe8b07b",
   "metadata": {},
   "outputs": [],
   "source": [
    "reviews = pd.concat(reviews_files)"
   ]
  },
  {
   "cell_type": "code",
   "execution_count": 18,
   "id": "5714ed3c",
   "metadata": {},
   "outputs": [],
   "source": [
    "reviews.drop('Unnamed: 0', axis=1, inplace=True)\n",
    "reviews.drop('Unnamed: 3', axis=1, inplace=True)"
   ]
  },
  {
   "cell_type": "code",
   "execution_count": 19,
   "id": "07d81a55",
   "metadata": {},
   "outputs": [],
   "source": [
    "reviews = reviews.reset_index(drop=True)"
   ]
  },
  {
   "cell_type": "code",
   "execution_count": 20,
   "id": "f4f22a7d",
   "metadata": {},
   "outputs": [
    {
     "data": {
      "text/html": [
       "<div>\n",
       "<style scoped>\n",
       "    .dataframe tbody tr th:only-of-type {\n",
       "        vertical-align: middle;\n",
       "    }\n",
       "\n",
       "    .dataframe tbody tr th {\n",
       "        vertical-align: top;\n",
       "    }\n",
       "\n",
       "    .dataframe thead th {\n",
       "        text-align: right;\n",
       "    }\n",
       "</style>\n",
       "<table border=\"1\" class=\"dataframe\">\n",
       "  <thead>\n",
       "    <tr style=\"text-align: right;\">\n",
       "      <th></th>\n",
       "      <th>Title</th>\n",
       "      <th>Review</th>\n",
       "      <th>Location</th>\n",
       "      <th>Score</th>\n",
       "    </tr>\n",
       "  </thead>\n",
       "  <tbody>\n",
       "    <tr>\n",
       "      <th>0</th>\n",
       "      <td>The overwhelming presence of Gaudi in Barcelona.</td>\n",
       "      <td>This really is a must see when visiting Barcel...</td>\n",
       "      <td>Basilica de la Sagrada Familia</td>\n",
       "      <td>NaN</td>\n",
       "    </tr>\n",
       "    <tr>\n",
       "      <th>1</th>\n",
       "      <td>late cancellation and no help in trying to reb...</td>\n",
       "      <td>we travelled from NZ for 30 hours to go on a c...</td>\n",
       "      <td>Basilica de la Sagrada Familia</td>\n",
       "      <td>NaN</td>\n",
       "    </tr>\n",
       "    <tr>\n",
       "      <th>2</th>\n",
       "      <td>A MUST for first time visitors to Barcelona!</td>\n",
       "      <td>What a spectacular landmark for the city. Stun...</td>\n",
       "      <td>Basilica de la Sagrada Familia</td>\n",
       "      <td>NaN</td>\n",
       "    </tr>\n",
       "    <tr>\n",
       "      <th>3</th>\n",
       "      <td>Cool to see. Way too crowded</td>\n",
       "      <td>It’s very cool to see it. I didn’t go inside a...</td>\n",
       "      <td>Basilica de la Sagrada Familia</td>\n",
       "      <td>NaN</td>\n",
       "    </tr>\n",
       "    <tr>\n",
       "      <th>4</th>\n",
       "      <td>Marvel or monstrous</td>\n",
       "      <td>Whether you love it, or it gives you nightmare...</td>\n",
       "      <td>Basilica de la Sagrada Familia</td>\n",
       "      <td>NaN</td>\n",
       "    </tr>\n",
       "  </tbody>\n",
       "</table>\n",
       "</div>"
      ],
      "text/plain": [
       "                                               Title  \\\n",
       "0   The overwhelming presence of Gaudi in Barcelona.   \n",
       "1  late cancellation and no help in trying to reb...   \n",
       "2       A MUST for first time visitors to Barcelona!   \n",
       "3                       Cool to see. Way too crowded   \n",
       "4                                Marvel or monstrous   \n",
       "\n",
       "                                              Review  \\\n",
       "0  This really is a must see when visiting Barcel...   \n",
       "1  we travelled from NZ for 30 hours to go on a c...   \n",
       "2  What a spectacular landmark for the city. Stun...   \n",
       "3  It’s very cool to see it. I didn’t go inside a...   \n",
       "4  Whether you love it, or it gives you nightmare...   \n",
       "\n",
       "                         Location Score  \n",
       "0  Basilica de la Sagrada Familia   NaN  \n",
       "1  Basilica de la Sagrada Familia   NaN  \n",
       "2  Basilica de la Sagrada Familia   NaN  \n",
       "3  Basilica de la Sagrada Familia   NaN  \n",
       "4  Basilica de la Sagrada Familia   NaN  "
      ]
     },
     "execution_count": 20,
     "metadata": {},
     "output_type": "execute_result"
    }
   ],
   "source": [
    "reviews.head()"
   ]
  },
  {
   "cell_type": "code",
   "execution_count": 21,
   "id": "ba833faa",
   "metadata": {},
   "outputs": [
    {
     "name": "stdout",
     "output_type": "stream",
     "text": [
      "This really is a must see when visiting Barcelona. As you walk up the steps from the station 'Sagrada Familia' you suddenly look up and see this immense cathedral towering above your head. It's amazing to look at from the outside but when you enter inside the building, wow, your breath is taken away by it's sheer beauty and spiritual abundance.\n"
     ]
    }
   ],
   "source": [
    "print(reviews['Review'][0])"
   ]
  },
  {
   "cell_type": "code",
   "execution_count": 23,
   "id": "e5af5404",
   "metadata": {},
   "outputs": [
    {
     "name": "stdout",
     "output_type": "stream",
     "text": [
      "Sentiment(polarity=0.1, subjectivity=0.5148148148148148)\n"
     ]
    }
   ],
   "source": [
    "from textblob import TextBlob\n",
    "\n",
    "# create a TextBlob object from the text\n",
    "blob = TextBlob(reviews['Review'][0])\n",
    "\n",
    "# get the sentiment of the text\n",
    "sentiment = blob.sentiment\n",
    "\n",
    "print(sentiment)"
   ]
  },
  {
   "cell_type": "code",
   "execution_count": null,
   "id": "f07e21b7",
   "metadata": {},
   "outputs": [],
   "source": []
  }
 ],
 "metadata": {
  "kernelspec": {
   "display_name": "Python 3 (ipykernel)",
   "language": "python",
   "name": "python3"
  },
  "language_info": {
   "codemirror_mode": {
    "name": "ipython",
    "version": 3
   },
   "file_extension": ".py",
   "mimetype": "text/x-python",
   "name": "python",
   "nbconvert_exporter": "python",
   "pygments_lexer": "ipython3",
   "version": "3.9.7"
  }
 },
 "nbformat": 4,
 "nbformat_minor": 5
}
